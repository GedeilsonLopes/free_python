{
 "cells": [
  {
   "cell_type": "code",
   "execution_count": 1,
   "metadata": {},
   "outputs": [
    {
     "name": "stdout",
     "output_type": "stream",
     "text": [
      "I am constructed\n",
      "So far: 1\n",
      "So far: 2\n",
      "I am destructed 2\n",
      "Now an contains 42\n"
     ]
    }
   ],
   "source": [
    "class PartyAnimal:\n",
    "    x = 0\n",
    "\n",
    "    def __init__(self) -> None:  # Contructor\n",
    "        print('I am constructed')\n",
    "\n",
    "    def party(self):  # Method\n",
    "        self.x += 1\n",
    "        print(f'So far: {self.x}')\n",
    "\n",
    "    def __del__(self):\n",
    "        print('I am destructed', self.x)  # Desctructor\n",
    "\n",
    "\n",
    "an = PartyAnimal()\n",
    "an.party()\n",
    "an.party()\n",
    "\n",
    "an = 42\n",
    "print(f'Now an contains {an}')\n"
   ]
  },
  {
   "cell_type": "code",
   "execution_count": 11,
   "metadata": {},
   "outputs": [
    {
     "name": "stdout",
     "output_type": "stream",
     "text": [
      "Sally constructed\n",
      "Sally party count 1\n",
      "jim constructed\n",
      "jim party count 1\n",
      "Sally party count 2\n"
     ]
    }
   ],
   "source": [
    "class PartyAnimal2():\n",
    "    x = 0\n",
    "    name = ''\n",
    "\n",
    "    def __init__(self, z) -> None:\n",
    "        self.name = z\n",
    "        print(self.name, 'constructed')\n",
    "\n",
    "    def party(self):\n",
    "        self.x += 1\n",
    "        print(f'{self.name} party count {self.x}')\n",
    "\n",
    "\n",
    "s = PartyAnimal2('Sally')\n",
    "s.party()\n",
    "\n",
    "j = PartyAnimal2('jim')\n",
    "j.party()\n",
    "s.party()\n"
   ]
  },
  {
   "cell_type": "code",
   "execution_count": 12,
   "metadata": {},
   "outputs": [
    {
     "name": "stdout",
     "output_type": "stream",
     "text": [
      "Sally constructed.\n",
      "Sally party counts 1\n",
      "Jim constructed.\n",
      "Jim party counts 1\n",
      "Jim party counts 2\n",
      "Jim points 7\n"
     ]
    }
   ],
   "source": [
    "class PartyAnimal3:\n",
    "    x = 0\n",
    "    name = ''\n",
    "\n",
    "    def __init__(self, nam) -> None:\n",
    "        self.name = nam\n",
    "        print(f'{self.name} constructed.')\n",
    "\n",
    "    def party(self):\n",
    "        self.x += 1\n",
    "        print(f'{self.name} party counts {self.x}')\n",
    "\n",
    "\n",
    "class FootballFan(PartyAnimal3):\n",
    "    points = 0\n",
    "\n",
    "    def touchdown(self):\n",
    "        self.points += 7\n",
    "        self.party()\n",
    "        print(f'{self.name} points {self.points}')\n",
    "\n",
    "\n",
    "s = PartyAnimal3('Sally')\n",
    "s.party()\n",
    "\n",
    "j = FootballFan('Jim')\n",
    "j.party()\n",
    "j.touchdown()\n"
   ]
  }
 ],
 "metadata": {
  "interpreter": {
   "hash": "d3c2b61a12c71134b465e7b06348e6548cf11a2608a40c8488571aff7afcd34c"
  },
  "kernelspec": {
   "display_name": "Python 3.10.0 64-bit ('venv': venv)",
   "language": "python",
   "name": "python3"
  },
  "language_info": {
   "codemirror_mode": {
    "name": "ipython",
    "version": 3
   },
   "file_extension": ".py",
   "mimetype": "text/x-python",
   "name": "python",
   "nbconvert_exporter": "python",
   "pygments_lexer": "ipython3",
   "version": "3.10.0"
  },
  "orig_nbformat": 4
 },
 "nbformat": 4,
 "nbformat_minor": 2
}
